{
 "cells": [
  {
   "cell_type": "code",
   "execution_count": 1,
   "id": "ba50bfb6",
   "metadata": {},
   "outputs": [],
   "source": [
    "#dependencies\n",
    "import pandas as pd"
   ]
  },
  {
   "cell_type": "code",
   "execution_count": 2,
   "id": "9ec08c71",
   "metadata": {},
   "outputs": [],
   "source": [
    "#name of CSV file\n",
    "file = 'cities.csv'"
   ]
  },
  {
   "cell_type": "code",
   "execution_count": 3,
   "id": "c0758b0a",
   "metadata": {},
   "outputs": [],
   "source": [
    "#read the CSV in pandas\n",
    "cities_df = pd.read_csv(file)"
   ]
  },
  {
   "cell_type": "code",
   "execution_count": 4,
   "id": "e3846384",
   "metadata": {},
   "outputs": [],
   "source": [
    "#convert to html\n",
    "cities_df.to_html(open('cities.html', 'w'))"
   ]
  }
 ],
 "metadata": {
  "kernelspec": {
   "display_name": "PythonData",
   "language": "python",
   "name": "pythondata"
  },
  "language_info": {
   "codemirror_mode": {
    "name": "ipython",
    "version": 3
   },
   "file_extension": ".py",
   "mimetype": "text/x-python",
   "name": "python",
   "nbconvert_exporter": "python",
   "pygments_lexer": "ipython3",
   "version": "3.7.7"
  }
 },
 "nbformat": 4,
 "nbformat_minor": 5
}
